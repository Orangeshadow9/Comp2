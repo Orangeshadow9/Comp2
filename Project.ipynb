{
 "cells": [
  {
   "cell_type": "markdown",
   "metadata": {},
   "source": [
    "# Forschungsprojekt Endboss der Uni\n",
    "\n",
    "## Aufbau\n",
    "\n",
    "1. [Einführung](#einführung)\n",
    "    1. [Hintergrund](#hintergrund)\n",
    "    2. [Fragestellungen und Erwartungen](#fragen)\n",
    "    3. [Methoden](#methoden)\n",
    "2. [Laden der Daten](#laden)\n",
    "3. [Visualisieren der Recordings](#vis_rec)\n",
    "4. [Visualisieren der Stimuli](#vis_stim)\n",
    "5. [Erstellung der ROC-Curve](#curve)\n",
    "5. [Diskussion](#diskussion)\n",
    "\n",
    "## Einleitung <a name=\"einleitung\"></a>\n",
    "\n",
    "### Hintergrund <a name=\"hintergrund\"></a> \n",
    "Ziel dieses Projektes ist es einen Datensatz aus Spike Train Recordings von Wanderheuschrecken (Locusta migratoria) zu visualisieren und untersuchen. \n",
    "Dabei wurden Aktionspotentiale der Wanderheuschrecken mittels ihrer Axonen in Hörrezeptoren aufgezeichnet. Die Heuschrecken wurden mit 60cm Abstand zwischen zwei Lautsprechern platziert. Jeder audio-Reiz wurden mit einer Rate von 100kHz von dem jeweiligen Lautsprecher apgespielt, der ipsilateral (gleichseitig) zu den überwachten Nerven stand. Die Experimente wurden an Zellen mit verschiedenen Frequenz-präferenzen durchgeführt. Das Präferenz der jeweiligen Zellen wurde mittels der f-I-Kurve der spezifischen Zelle ermittelt. f-I-Kurve steht für \"Frequenz-Stromfluss-Kurve\", sie zeigt den synaptischen Stromfluss eines Neurons in Bezug auf dessen Feuerrate. Sämtliche anschließenden Experimente wurden mittels eines reinen Tons in der bevorzugten Frequenz der Zelle durchgeführt.  \n",
    "\n",
    "### Fragestellungen und Erwartungen <a name=\"fragen\"></a> \n",
    "\n",
    "<!-- TBW: ROC-Curve functionen\n",
    "ROC-Curve mathematisches wissen keyword: threshold \n",
    "vergleich kleiner threshold zu großem threshold an verhalten der ROC-Curve (zu hoch führt zu sehr vielen correct trues (ß), zu niedrig wird zu reinem raten 50ß/50a weil threshold immer \"true\" sagt)\n",
    "Grundwissen zu ROC-Curves: Alpha/Beta test, falsch positiv (Vergleiche mit threshold für fehler entstehung)\n",
    "\n",
    "ROC-Curve keyword: Two-alternative forced choice \n",
    "Positiv stimulus (Plus richtung) & negative stimulus (minus richtung) werden beide angegeben. Ziel: Plus richtung erkennen. Trial 1 ist eine richtung, trial 2 zweite richtung, wenn zb. rate1 > rate2 ist die gegebene Antwort trial 1, sonst (rate2>rate1) trial 2 \n",
    "Hintergrundwissen TAFC: Bayes ([z|+])\n",
    "\n",
    "Mögliche Bilder für visualisieren: Standard ROC-Curve, ROC-Curve mit verschiedenen thresholds in gleichem bild, ROC-Curves in einer gesamten population an nervenzellen (wenns dazu bild gibt)  -->\n",
    "\n"
   ]
  },
  {
   "cell_type": "markdown",
   "metadata": {},
   "source": [
    "### Methoden <a name=\"methoden\"></a> <!-- später, evntl. Unterteilung in Spike-Raster-Plots, Power-Spectral Density und ROC-Curve -->"
   ]
  },
  {
   "cell_type": "markdown",
   "metadata": {},
   "source": [
    "## Laden der Daten <a name=\"laden\"></a> <!-- wichtig: der Pfad für die Daten ist bei uns anders als später im Notebook -->\n",
    "\n",
    "### Aufbau der Daten <!-- siehe README -->\n"
   ]
  },
  {
   "cell_type": "markdown",
   "metadata": {},
   "source": [
    "## Visualisieren der Stimuli <a name=\"vis_stim\"></a>\n",
    "Als Stimuli wurden neun Gaussverteilungen mit variierenden <!-- wofür steht \"co\"? Was ist die modality? Was ist \"lmd_co200.dat\"? -->\n",
    "<br> Die Funktion \"stimtodB.m\" wird verwendet um die Daten der Stimuli in Dezibel umzuwandeln."
   ]
  },
  {
   "cell_type": "code",
   "execution_count": null,
   "metadata": {
    "vscode": {
     "languageId": "plaintext"
    }
   },
   "outputs": [],
   "source": []
  }
 ],
 "metadata": {
  "language_info": {
   "name": "python"
  }
 },
 "nbformat": 4,
 "nbformat_minor": 2
}
