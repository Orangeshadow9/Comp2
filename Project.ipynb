{
 "cells": [
  {
   "cell_type": "markdown",
   "metadata": {},
   "source": [
    "# Forschungsprojekt Endboss der Uni\n",
    "\n",
    "## Aufbau\n",
    "\n",
    "1. [Einführung](#einführung)\n",
    "    1. [Hintergrund](#hintergrund)\n",
    "    2. [Fragestellungen und Erwartungen](#fragen)\n",
    "    3. [Methoden](#methoden)\n",
    "2. [Laden der Daten](#laden)\n",
    "3. [Visualisieren der Recordings](#vis_rec)\n",
    "4. [Visualisieren der Stimuli](#vis_stim)\n",
    "5. [Erstellung der ROC-Curve](#curve)\n",
    "5. [Diskussion](#diskussion)\n",
    "\n",
    "## Einleitung <a name=\"einleitung\"></a>\n",
    "\n",
    "### Hintergrund <a name=\"hintergrund\"></a> \n",
    "Ziel dieses Projektes ist es einen Datensatz aus Spike Train Recordings von Wanderheuschrecken (Locusta migratoria) zu visualisieren und untersuchen. \n",
    "Dabei wurden Aktionspotentiale der Wanderheuschrecken mittels ihrer Axonen in Hörrezeptoren aufgezeichnet. Die Heuschrecken wurden mit 60cm Abstand zwischen zwei Lautsprechern platziert. Jeder audio-Reiz wurden mit einer Rate von 100kHz von dem jeweiligen Lautsprecher apgespielt, der ipsilateral (gleichseitig) zu den überwachten Nerven stand. Die Experimente wurden an Zellen mit verschiedenen Frequenz-präferenzen durchgeführt. Das Präferenz der jeweiligen Zellen wurde mittels der f-I-Kurve der spezifischen Zelle ermittelt. f-I-Kurve steht für \"Frequenz-Stromfluss-Kurve\", sie zeigt den synaptischen Stromfluss eines Neurons in Bezug auf dessen Feuerrate. Sämtliche anschließenden Experimente wurden mittels eines reinen Tons in der bevorzugten Frequenz der Zelle durchgeführt.  \n",
    "\n",
    "### Fragestellungen und Erwartungen <a name=\"fragen\"></a> \n",
    "Dieses Projekt bezieht sich auf Receiver-Operating-Characteristic-Curves, kurz ROC-Curves genannt. Um ROC-Curves zu verstehen muss zuerst erklärt werden, wie unterschiedliche Ergebnisse in der Statistik differenziert werden können. \n",
    "\n",
    "Sei zum Beispiel r eine gemessene Feuerrate während eines Versuches an einer Nervenzelle. Diese Feuerrate wird mit einem Schwellenwert z verglichen. Ist r größergleich z, gibt unser Test das Ergebnis \"Plus\". \"Plus\" als Testergebnis heißt, dass der Test behauptet, dass der Stimulus sich in die präferierte Richtung des Neurons bewegt.\n",
    "\n",
    "Reagiert eine Nervenzelle im visuellen Bereich zum Beispiel bevorzugt auf beobachtete Bewegungen \"nach rechts\" in der realen Welt, dann möchten wir von dem Test ein \"Plus\"-Ergebnis erhalten, wenn ein Objekt vor dem Probanden nach rechts bewegt wird.\n",
    "<!-- Eventuell cut this^  Als \"allgemeinere/verständlichere\" Erklärung noch aufgeschrieben -->\n",
    "\n",
    " Die Wahrscheinlichkeit ein korrektes \"Plus\"-Ergebnis zu erhalten wird geschrieben als β(z)=P[r≥z|+], und wird im Allgemeinen als \"Hit\", \"Hit rate\", oder \"Power\" des Tests bezeichnet. Außerdem ist die Definition α(z)=P[r≥z|-] wichtig. α wird auch \"Size\", oder \"False alarm rate\" des Tests genannt. In Wörtern beschrieben gibt α die Wahrscheinlichkeit an, dass der Test fälschlicherweise einen \"Plus\"-Stimulus wiedergibt, obwohl in Wirklichkeit ein \"Minus\"-Stimulus, also ein Stimulus der sich entgegengesetzt der präferierten Richtung des Neurons bewegt, vorliegt. Folglich schließt sich, dass die Wahrscheinlichkeit einen \"Plus\"-Stimulus inkorrekt vom Test identifiziert zu bekommen 1-β ist, und die Wahrscheinlichkeit einen \"Minus\"-Stimulus korrekt zu identifizieren mittels 1-α gegeben ist.\n",
    "In all diesen Fällen soll z ein Wert sein, für den die Hit-Rate des Tests maximal groß, und gleichzeitig die False-Alarm-Rate so niedrig wie möglich gehalten werden soll.\n",
    "\n",
    "\n",
    "Da der Schwellenwert z frei wählbar ist, werden ROC-Curves als Veranschaulichung genutzt. \n",
    "Jeder Punkt auf einer ROC-Curve korrespondiert zu einem spezifischen Wert für z. Damit erhalten wir eine visualisierte \"Size-to-Power-ratio\". \n",
    "Die x-Koordinate des Punktes ist die \"Size\" des Tests α für diesen Wert z. Die y-Koordinate des Punktes korrespondiert zu der \"Power\" des Tests β für diesen Wert z.\n",
    "<!-- Bild? -->\n",
    "\n",
    "Da der Schwellenwert z kontinuierlich variiert wird, erhalten wir mittels all den einzelnen Punkten eine komplette ROC-Curve.\n",
    "\n",
    "Beispiele für extreme z-Werte: \n",
    "\n",
    "Sei z=0, so wird die Feuerrate r immer größergleich z sein. Damit ist α=β=1, wir finden diesen Punkt an der oberen rechten Grenze der ROC-Curve.\n",
    "Im anderen Extremfall, für sehr große z wird r immer kleiner sein als z. Hier erhalten wir immer \"Minus\" als Testergebnis. Dieser Punkt ist an der unteren linken Grenze der ROC-Curve sichtbar.\n",
    "In beiden Fällen kann man richtige Testergebnisse nicht von falschen unterscheiden, wodurch man effektiv rein am raten ist.\n",
    "\n",
    "Zwischen diesen beiden Extremwerten für z bildet sich die ROC-Curve als eine Funktion von z.\n",
    "<!-- Bild? Entweder hier oder schon bei dem oberen Notiz. Falls hier evtl die Extremfälle z=0 und z=groß hervorheben?-->\n",
    "\n",
    "\n",
    "\n",
    "\n",
    "<!-- TBW: ROC-Curve functionen\n",
    "ROC-Curve mathematisches wissen keyword: threshold \n",
    "vergleich kleiner threshold zu großem threshold an verhalten der ROC-Curve (zu hoch führt zu sehr vielen correct trues (ß), zu niedrig wird zu reinem raten 50ß/50a weil threshold immer \"true\" sagt)\n",
    "Grundwissen zu ROC-Curves: Alpha/Beta test, falsch positiv (Vergleiche mit threshold für fehler entstehung)\n",
    "\n",
    "ROC-Curve keyword: Two-alternative forced choice \n",
    "Positiv stimulus (Plus richtung) & negative stimulus (minus richtung) werden beide angegeben. Ziel: Plus richtung erkennen. Trial 1 ist eine richtung, trial 2 zweite richtung, wenn zb. rate1 > rate2 ist die gegebene Antwort trial 1, sonst (rate2>rate1) trial 2 \n",
    "Hintergrundwissen TAFC: Bayes ([z|+])\n",
    "\n",
    "Mögliche Bilder für visualisieren: Standard ROC-Curve, ROC-Curve mit verschiedenen thresholds in gleichem bild, ROC-Curves in einer gesamten population an nervenzellen (wenns dazu bild gibt)  -->\n",
    "\n"
   ]
  },
  {
   "cell_type": "markdown",
   "metadata": {},
   "source": [
    "### Methoden <a name=\"methoden\"></a> <!-- später, evntl. Unterteilung in Spike-Raster-Plots, Power-Spectral Density und ROC-Curve -->"
   ]
  },
  {
   "cell_type": "markdown",
   "metadata": {},
   "source": [
    "## Laden der Daten <a name=\"laden\"></a> <!-- wichtig: der Pfad für die Daten ist bei uns anders als später im Notebook -->\n",
    "\n",
    "### Aufbau der Daten <!-- siehe README -->\n"
   ]
  },
  {
   "cell_type": "markdown",
   "metadata": {},
   "source": [
    "## Visualisieren der Stimuli <a name=\"vis_stim\"></a>\n",
    "Als Stimuli wurden neun Gaussverteilungen mit variierenden <!-- wofür steht \"co\"? Was ist die modality? Was ist \"lmd_co200.dat\"? -->\n",
    "<br> Die Funktion \"stimtodB.m\" wird verwendet um die Daten der Stimuli in Dezibel umzuwandeln."
   ]
  },
  {
   "cell_type": "code",
   "execution_count": null,
   "metadata": {
    "vscode": {
     "languageId": "plaintext"
    }
   },
   "outputs": [],
   "source": []
  }
 ],
 "metadata": {
  "language_info": {
   "name": "python"
  }
 },
 "nbformat": 4,
 "nbformat_minor": 2
}
